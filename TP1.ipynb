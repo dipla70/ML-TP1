{
 "cells": [
  {
   "cell_type": "markdown",
   "metadata": {},
   "source": [
    "#### 1 Introduction"
   ]
  },
  {
   "cell_type": "code",
   "execution_count": null,
   "metadata": {},
   "outputs": [],
   "source": [
    "import requests\n",
    "from bs4 import BeautifulSoup\n",
    "import pandas as pd"
   ]
  },
  {
   "cell_type": "code",
   "execution_count": null,
   "metadata": {},
   "outputs": [],
   "source": [
    "# Base URL para los chunks\n",
    "base_url = \"https://ignaciomsarmiento.github.io/GEIH2018_sample/pages/geih_page_\""
   ]
  },
  {
   "cell_type": "code",
   "execution_count": null,
   "metadata": {},
   "outputs": [],
   "source": [
    "# Lista para almacenar los datos de todos los chunks\n",
    "all_data = []"
   ]
  },
  {
   "cell_type": "code",
   "execution_count": null,
   "metadata": {},
   "outputs": [],
   "source": [
    "# Iterar sobre las 10 páginas\n",
    "for i in range(1, 11):\n",
    "    # Construir la URL para cada chunk\n",
    "    url = f\"{base_url}{i}.html\"\n",
    "    print(f\"Scraping {url}...\")  # Opcional: para monitorear el progreso\n",
    "    \n",
    "    # Hacer la solicitud HTTP\n",
    "    response = requests.get(url)\n",
    "    \n",
    "    # Parsear el contenido HTML\n",
    "    soup = BeautifulSoup(response.content, 'html.parser')\n",
    "    \n",
    "    # Encontrar la tabla\n",
    "    table = soup.find('table')\n",
    "    \n",
    "    # Extraer los encabezados\n",
    "    headers = [header.text.strip() for header in table.find_all('th')]\n",
    "    \n",
    "    # Extraer las filas de la tabla\n",
    "    rows = []\n",
    "    for row in table.find_all('tr'):\n",
    "        cells = [cell.text.strip() for cell in row.find_all('td')]\n",
    "        if cells:\n",
    "            rows.append(cells)\n",
    "    \n",
    "    # Crear un DataFrame temporal\n",
    "    df = pd.DataFrame(rows, columns=headers)\n",
    "    \n",
    "    # Agregar el DataFrame temporal a la lista de todos los datos\n",
    "    all_data.append(df)"
   ]
  },
  {
   "cell_type": "code",
   "execution_count": null,
   "metadata": {},
   "outputs": [],
   "source": [
    "# Combinar todos los DataFrames en uno solo\n",
    "final_data = pd.concat(all_data, ignore_index=True)"
   ]
  },
  {
   "cell_type": "code",
   "execution_count": null,
   "metadata": {},
   "outputs": [],
   "source": [
    "display(final_data)"
   ]
  },
  {
   "cell_type": "code",
   "execution_count": null,
   "metadata": {},
   "outputs": [],
   "source": [
    "#Lo exporto como csv así no hay que scrappear cada vez que lo abrimos\n",
    "final_data.to_csv(\"final_data.csv\", index=False)"
   ]
  },
  {
   "cell_type": "code",
   "execution_count": null,
   "metadata": {},
   "outputs": [],
   "source": [
    "#Uso otro nombre para importarlo. En lugar de \"final_data\" le pongo \"df_1\". Esto para que no pise lo anterior. \n",
    "df_1 = pd.read_csv(\"final_data.csv\")\n"
   ]
  },
  {
   "cell_type": "markdown",
   "metadata": {},
   "source": [
    "### 1.1 General Instructions\n"
   ]
  },
  {
   "cell_type": "code",
   "execution_count": null,
   "metadata": {},
   "outputs": [],
   "source": [
    "#Filtro el df con edad +18 y que estén empleados\n",
    "#dsi == 0 es que NO esta desempleado. \"inac == 0\" es que NO está inactivo.\n",
    "#Lo hice así porque no hay una variable empleo. Entonces si no un activo que no está desempleado es un empleado\n",
    "df_2 = df_1[(df_1[\"age\"]>=18)&(df_1[\"dsi\"]==0)&(df_1[\"inac\"]==0)].copy()"
   ]
  },
  {
   "cell_type": "code",
   "execution_count": null,
   "metadata": {},
   "outputs": [],
   "source": [
    "df_2.shape"
   ]
  },
  {
   "cell_type": "code",
   "execution_count": null,
   "metadata": {},
   "outputs": [],
   "source": [
    "#Variable y_ingLab_m_ha debe ser la dependiente. Es el salario por hora.\n",
    "\n",
    "df_2['y_ingLab_m_ha'].agg(['mean', 'median', 'std', 'min', 'max'])\n",
    "\n",
    "print(df_1['y_ingLab_m_ha'].isna().sum())\n",
    "print((df_1['y_ingLab_m_ha'] == 0).sum())\n"
   ]
  },
  {
   "cell_type": "markdown",
   "metadata": {},
   "source": [
    "## 3 Predicting Wages\n"
   ]
  }
 ],
 "metadata": {
  "kernelspec": {
   "display_name": "base",
   "language": "python",
   "name": "python3"
  },
  "language_info": {
   "codemirror_mode": {
    "name": "ipython",
    "version": 3
   },
   "file_extension": ".py",
   "mimetype": "text/x-python",
   "name": "python",
   "nbconvert_exporter": "python",
   "pygments_lexer": "ipython3",
   "version": "3.12.4"
  }
 },
 "nbformat": 4,
 "nbformat_minor": 2
}
